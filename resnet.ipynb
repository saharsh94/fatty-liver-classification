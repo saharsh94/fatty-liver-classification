{
  "cells": [
    {
      "cell_type": "code",
      "execution_count": null,
      "metadata": {
        "colab": {
          "base_uri": "https://localhost:8080/"
        },
        "id": "lfcEXB0HTXf4",
        "outputId": "81a59274-b75c-4789-9cb0-ec9a87de054f"
      },
      "outputs": [
        {
          "output_type": "stream",
          "name": "stdout",
          "text": [
            "Requirement already satisfied: pip in /usr/local/lib/python3.10/dist-packages (23.1.2)\n",
            "Collecting install\n",
            "  Downloading install-1.3.5-py3-none-any.whl (3.2 kB)\n",
            "Requirement already satisfied: keras in /usr/local/lib/python3.10/dist-packages (2.12.0)\n",
            "Installing collected packages: install\n",
            "Successfully installed install-1.3.5\n"
          ]
        }
      ],
      "source": [
        "!pip install pip install keras"
      ]
    },
    {
      "cell_type": "code",
      "execution_count": null,
      "metadata": {
        "id": "_q_d9kwCTGUi"
      },
      "outputs": [],
      "source": [
        "import numpy as np\n",
        "import pandas as pd\n",
        "import tensorflow as tf\n",
        "from tensorflow import keras\n",
        "from keras.preprocessing.image import ImageDataGenerator\n",
        "import matplotlib.pyplot as plt\n",
        "import seaborn as sns\n",
        "import glob\n",
        "import cv2\n",
        "from keras import Sequential\n",
        "from keras.layers import Flatten,Dense,BatchNormalization,Dropout,LeakyReLU,GlobalAveragePooling2D\n",
        "from keras.optimizers import Adam,RMSprop\n",
        "from keras.losses import BinaryCrossentropy\n",
        "from keras.applications import ResNet50V2\n",
        "from keras.callbacks import EarlyStopping\n",
        "from tensorflow.keras.applications.resnet import preprocess_input\n",
        "from tensorflow.keras.applications import ResNet50\n",
        "from tensorflow.keras import layers, callbacks, utils, applications, optimizers"
      ]
    },
    {
      "cell_type": "code",
      "execution_count": null,
      "metadata": {
        "colab": {
          "base_uri": "https://localhost:8080/"
        },
        "id": "mIrWQbLQTQa9",
        "outputId": "e620f0fb-76a0-44d6-e42d-3b1aa4e59dd5"
      },
      "outputs": [
        {
          "output_type": "stream",
          "name": "stdout",
          "text": [
            "Mounted at /content/drive\n"
          ]
        }
      ],
      "source": [
        "from google.colab import drive\n",
        "drive.mount('/content/drive')"
      ]
    },
    {
      "cell_type": "code",
      "execution_count": null,
      "metadata": {
        "id": "XzCnaa6-T3Nm"
      },
      "outputs": [],
      "source": [
        "import os\n",
        "data_path = '/content/drive/MyDrive/Colab Notebooks/fatty liver/data/'\n",
        "data_dir_list = os.listdir(data_path)\n",
        "test_path ='/content/drive/MyDrive/Colab Notebooks/fatty liver/val/'\n"
      ]
    },
    {
      "cell_type": "code",
      "execution_count": null,
      "metadata": {
        "colab": {
          "base_uri": "https://localhost:8080/"
        },
        "id": "JnrhELj0UF70",
        "outputId": "742ce5a0-013e-4e45-e323-762cfb328de5"
      },
      "outputs": [
        {
          "output_type": "stream",
          "name": "stdout",
          "text": [
            "259\n",
            "184\n",
            "86\n"
          ]
        }
      ],
      "source": [
        "normal = glob.glob(data_path+\"normal/*.jpg\")\n",
        "print(len(normal))\n",
        "g1 = glob.glob(data_path+\"g1/*.jpg\")\n",
        "print(len(g1))\n",
        "g2 = glob.glob(data_path+\"g2/*.jpg\")\n",
        "print(len(g2))"
      ]
    },
    {
      "cell_type": "code",
      "execution_count": null,
      "metadata": {
        "id": "GAbifkaIUVhy"
      },
      "outputs": [],
      "source": [
        "train_val_generator = ImageDataGenerator(dtype='float32', preprocessing_function=preprocess_input)\n",
        "test_generator = ImageDataGenerator(rescale=1./255)"
      ]
    },
    {
      "cell_type": "code",
      "source": [
        "test_datagen = ImageDataGenerator(dtype='float32', preprocessing_function=preprocess_input)\n",
        "test_generator = test_datagen.flow_from_directory(test_path,\n",
        "                                                   batch_size = 128,\n",
        "                                                   target_size = (220,220),class_mode = 'categorical')"
      ],
      "metadata": {
        "colab": {
          "base_uri": "https://localhost:8080/"
        },
        "id": "NRQ2EyFhQf8t",
        "outputId": "a70fe25b-e3ab-4f7c-c85f-c845e6081653"
      },
      "execution_count": null,
      "outputs": [
        {
          "output_type": "stream",
          "name": "stdout",
          "text": [
            "Found 36 images belonging to 3 classes.\n"
          ]
        }
      ]
    },
    {
      "cell_type": "code",
      "execution_count": null,
      "metadata": {
        "colab": {
          "base_uri": "https://localhost:8080/"
        },
        "id": "WUfKyZ7QV6Wy",
        "outputId": "d484b798-4f43-40bb-bc29-f09e3e23a4e1"
      },
      "outputs": [
        {
          "output_type": "stream",
          "name": "stdout",
          "text": [
            "Found 529 images belonging to 3 classes.\n"
          ]
        }
      ],
      "source": [
        "train = train_val_generator.flow_from_directory(data_path,\n",
        "                                               batch_size=128,\n",
        "                                               target_size=(220,220),\n",
        "                                               color_mode=\"rgb\",\n",
        "                                              class_mode=\"categorical\",\n",
        "                                               shuffle=True,\n",
        "                                               seed=42,\n",
        "                                               subset=\"training\")"
      ]
    },
    {
      "cell_type": "code",
      "execution_count": null,
      "metadata": {
        "id": "xEvKpJ4AWAew",
        "colab": {
          "base_uri": "https://localhost:8080/"
        },
        "outputId": "5a94da62-1afd-4256-8763-ad15d5d1afc0"
      },
      "outputs": [
        {
          "output_type": "stream",
          "name": "stdout",
          "text": [
            "Downloading data from https://storage.googleapis.com/tensorflow/keras-applications/resnet/resnet50v2_weights_tf_dim_ordering_tf_kernels_notop.h5\n",
            "94668760/94668760 [==============================] - 0s 0us/step\n"
          ]
        }
      ],
      "source": [
        "resnet50 = ResNet50V2(weights = \"imagenet\", input_shape = (220,220,3), include_top = False)"
      ]
    },
    {
      "cell_type": "code",
      "execution_count": null,
      "metadata": {
        "id": "I0Oe3KEgWSFh",
        "colab": {
          "base_uri": "https://localhost:8080/"
        },
        "outputId": "e21d6cdc-2687-417c-c1de-b712935246c3"
      },
      "outputs": [
        {
          "output_type": "stream",
          "name": "stdout",
          "text": [
            "Downloading data from https://storage.googleapis.com/tensorflow/keras-applications/resnet/resnet50_weights_tf_dim_ordering_tf_kernels_notop.h5\n",
            "94765736/94765736 [==============================] - 0s 0us/step\n"
          ]
        }
      ],
      "source": [
        "for layer in resnet50.layers:\n",
        "    layer.trainable = False\n",
        "model = Sequential()\n",
        "res_model = ResNet50(include_top=False, pooling='avg', weights='imagenet', input_shape = (220, 220, 3))\n",
        "model.add(res_model)\n",
        "\n",
        "for layer in resnet50.layers:\n",
        "    layer.trainable = False\n",
        "\n",
        "model.add(Flatten())\n",
        "\n",
        "model.add(Dense(units = 128, activation = \"relu\"))\n",
        "model.add(Dropout(0.5))\n",
        "\n",
        "model.add(Dense(units = 3, activation = \"softmax\"))\n"
      ]
    },
    {
      "cell_type": "code",
      "execution_count": null,
      "metadata": {
        "colab": {
          "base_uri": "https://localhost:8080/"
        },
        "id": "hDs0z_DCWcOx",
        "outputId": "dc77b4aa-0f10-441b-9732-2a3720b6f3ec"
      },
      "outputs": [
        {
          "output_type": "stream",
          "name": "stdout",
          "text": [
            "Model: \"sequential\"\n",
            "_________________________________________________________________\n",
            " Layer (type)                Output Shape              Param #   \n",
            "=================================================================\n",
            " resnet50 (Functional)       (None, 2048)              23587712  \n",
            "                                                                 \n",
            " flatten (Flatten)           (None, 2048)              0         \n",
            "                                                                 \n",
            " dense (Dense)               (None, 128)               262272    \n",
            "                                                                 \n",
            " dropout (Dropout)           (None, 128)               0         \n",
            "                                                                 \n",
            " dense_1 (Dense)             (None, 3)                 387       \n",
            "                                                                 \n",
            "=================================================================\n",
            "Total params: 23,850,371\n",
            "Trainable params: 23,797,251\n",
            "Non-trainable params: 53,120\n",
            "_________________________________________________________________\n"
          ]
        }
      ],
      "source": [
        "model.compile(optimizer = \"adam\", loss = \"binary_crossentropy\", metrics = [\"accuracy\"])\n",
        "model.summary()"
      ]
    },
    {
      "cell_type": "code",
      "execution_count": null,
      "metadata": {
        "colab": {
          "base_uri": "https://localhost:8080/"
        },
        "id": "wwMWUAzuWgoO",
        "outputId": "379d5182-223e-4d80-d62b-0fe4e3df0016"
      },
      "outputs": [
        {
          "output_type": "stream",
          "name": "stdout",
          "text": [
            "Epoch 1/50\n",
            "5/5 [==============================] - 8s 1s/step - loss: 0.0013 - accuracy: 1.0000 - lr: 1.0000e-04\n",
            "Epoch 2/50\n",
            "5/5 [==============================] - 7s 1s/step - loss: 0.0021 - accuracy: 1.0000 - lr: 1.0000e-04\n",
            "Epoch 3/50\n",
            "5/5 [==============================] - 8s 2s/step - loss: 0.0016 - accuracy: 1.0000 - lr: 1.0000e-04\n",
            "Epoch 4/50\n",
            "5/5 [==============================] - 6s 2s/step - loss: 0.0116 - accuracy: 0.9962 - lr: 1.0000e-04\n",
            "Epoch 5/50\n",
            "5/5 [==============================] - 9s 1s/step - loss: 0.0019 - accuracy: 1.0000 - lr: 1.0000e-04\n",
            "Epoch 6/50\n",
            "5/5 [==============================] - ETA: 0s - loss: 0.0018 - accuracy: 1.0000\n",
            "Epoch 6: ReduceLROnPlateau reducing learning rate to 0.0001.\n",
            "Restoring model weights from the end of the best epoch: 1.\n",
            "5/5 [==============================] - 9s 2s/step - loss: 0.0018 - accuracy: 1.0000 - lr: 1.0000e-04\n",
            "Epoch 6: early stopping\n"
          ]
        }
      ],
      "source": [
        "rlp = callbacks.ReduceLROnPlateau(monitor='loss', factor=0.1, patience=5, min_lr=0.0001, mode='min', verbose=2)\n",
        "early_stopping = EarlyStopping(monitor='loss', patience=5, verbose=2, mode='min', restore_best_weights=True)\n",
        "hist = model.fit(train,epochs=50,callbacks = [ rlp,early_stopping])"
      ]
    },
    {
      "cell_type": "code",
      "execution_count": null,
      "metadata": {
        "id": "DA6M-pNEWzsc",
        "colab": {
          "base_uri": "https://localhost:8080/"
        },
        "outputId": "bb53925b-8bd8-482e-d2d8-c0afb10bfa61"
      },
      "outputs": [
        {
          "output_type": "stream",
          "name": "stdout",
          "text": [
            "\r1/3 [=========>....................] - ETA: 0s - loss: 0.3852 - accuracy: 0.9444"
          ]
        },
        {
          "output_type": "stream",
          "name": "stderr",
          "text": [
            "WARNING:tensorflow:Your input ran out of data; interrupting training. Make sure that your dataset or generator can generate at least `steps_per_epoch * epochs` batches (in this case, 3 batches). You may need to use the repeat() function when building your dataset.\n"
          ]
        },
        {
          "output_type": "stream",
          "name": "stdout",
          "text": [
            "\b\b\b\b\b\b\b\b\b\b\b\b\b\b\b\b\b\b\b\b\b\b\b\b\b\b\b\b\b\b\b\b\b\b\b\b\b\b\b\b\b\b\b\b\b\b\b\b\b\b\b\b\b\b\b\b\b\b\b\b\b\b\b\b\b\b\b\b\b\b\b\b\b\b\b\b\b\b\b\b\r3/3 [==============================] - 0s 17ms/step - loss: 0.3852 - accuracy: 0.9444\n"
          ]
        }
      ],
      "source": [
        "result = model.evaluate(test_generator, steps=3)"
      ]
    },
    {
      "cell_type": "code",
      "source": [],
      "metadata": {
        "id": "4XjXa8DOSQTf"
      },
      "execution_count": null,
      "outputs": []
    }
  ],
  "metadata": {
    "colab": {
      "provenance": [],
      "gpuType": "T4"
    },
    "kernelspec": {
      "display_name": "Python 3",
      "name": "python3"
    },
    "language_info": {
      "name": "python"
    },
    "accelerator": "GPU"
  },
  "nbformat": 4,
  "nbformat_minor": 0
}